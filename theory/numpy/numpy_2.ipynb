{
 "cells": [
  {
   "cell_type": "markdown",
   "id": "85798b6d",
   "metadata": {},
   "source": [
    "# Матрицы (двумерные массивы)"
   ]
  },
  {
   "cell_type": "code",
   "execution_count": 2,
   "id": "7412cf5c",
   "metadata": {},
   "outputs": [],
   "source": [
    "import numpy as np"
   ]
  },
  {
   "cell_type": "code",
   "execution_count": 8,
   "id": "d4c2767f",
   "metadata": {},
   "outputs": [
    {
     "name": "stdout",
     "output_type": "stream",
     "text": [
      "[[1 2 3]\n",
      " [4 5 6]]\n",
      "int64\n",
      "2\n",
      "(2, 3)\n",
      "6\n",
      "[[1. 2. 3.]\n",
      " [4. 5. 6.]]\n",
      "[[1. 2. 3. 4. 5. 6.]]\n",
      "[[1. 2.]\n",
      " [3. 4.]]\n"
     ]
    }
   ],
   "source": [
    "# основное\n",
    "\n",
    "matrix = np.array([(1,2,3), (4,5,6)])\n",
    "print(matrix)\n",
    "print(matrix.dtype)  # тип данных массива\n",
    "print(matrix.ndim)  # количество изменений в массиве\n",
    "print(matrix.shape)  # размер массива в 2-ом измерении\n",
    "print(matrix.size)  # размер массива\n"
   ]
  },
  {
   "cell_type": "code",
   "execution_count": 21,
   "id": "c84a58d5",
   "metadata": {},
   "outputs": [
    {
     "name": "stdout",
     "output_type": "stream",
     "text": [
      "[[1. 2. 3.]\n",
      " [4. 5. 6.]\n",
      " [7. 8. 9.]]\n",
      "[[1 2 3 4 5 6 7 8 9]]\n",
      "[[1 2]\n",
      " [3 4]]\n"
     ]
    }
   ],
   "source": [
    "# преобразование матрицы\n",
    "\n",
    "matrix2 = np.array([(1,2,3), (4,5,6), (7,8,9)])\n",
    "\n",
    "matrix2 = np.array(matrix2, dtype=np.float64)  # преобразование типа данных массива\n",
    "print(matrix2)\n",
    "\n",
    "matrix2 = matrix.reshape(1,9)  # преобразование матрицы на массив в 1 ряд с 6 элементами (изменение формы массива)\n",
    "print(matrix2)\n",
    "\n",
    "matrix2 = np.resize(matrix, (2,2))  # преобразование матрицы() на \n",
    "print(matrix2)"
   ]
  },
  {
   "cell_type": "code",
   "execution_count": 7,
   "id": "874c1855",
   "metadata": {},
   "outputs": [
    {
     "name": "stdout",
     "output_type": "stream",
     "text": [
      "[[0.21510655 0.34662696]\n",
      " [0.06869905 0.91622121]]\n"
     ]
    }
   ],
   "source": [
    "# рандомные числа\n",
    "\n",
    "matrix3 = np.random.random((2,2))\n",
    "print(matrix3)"
   ]
  },
  {
   "cell_type": "code",
   "execution_count": 13,
   "id": "1105bd11",
   "metadata": {},
   "outputs": [
    {
     "name": "stdout",
     "output_type": "stream",
     "text": [
      "[[ 0  1  2  3  4  5  6  7]\n",
      " [ 8  9 10 11 12 13 14 15]]\n"
     ]
    }
   ],
   "source": [
    "# комбинирование методов\n",
    "\n",
    "matrix4 = np.arange(16).reshape(2,8)\n",
    "print(matrix4)"
   ]
  },
  {
   "cell_type": "code",
   "execution_count": 25,
   "id": "dfaaddc5",
   "metadata": {},
   "outputs": [
    {
     "name": "stdout",
     "output_type": "stream",
     "text": [
      "[[0. 0. 0.]\n",
      " [0. 0. 0.]]\n",
      "[[1. 1. 1.]\n",
      " [1. 1. 1.]\n",
      " [1. 1. 1.]]\n",
      "[[1. 0. 0. 0. 0.]\n",
      " [0. 1. 0. 0. 0.]\n",
      " [0. 0. 1. 0. 0.]\n",
      " [0. 0. 0. 1. 0.]\n",
      " [0. 0. 0. 0. 1.]]\n",
      "[[9 9 9]\n",
      " [9 9 9]\n",
      " [9 9 9]]\n",
      "[[0. 0.]\n",
      " [0. 0.]\n",
      " [0. 0.]]\n"
     ]
    }
   ],
   "source": [
    "# специальные матрицы\n",
    "\n",
    "matrix5 = np.zeros((2,3))  # матрица 2х3, заполненная 0\n",
    "print(matrix5)\n",
    "\n",
    "matrix5 = np.ones((3,3))  # матрица 3х3, заполненная 1\n",
    "print(matrix5)\n",
    "\n",
    "matrix5 = np.eye(5)  # единичная матрица 5 порядка\n",
    "print(matrix5)\n",
    "\n",
    "matrix5 = np.full((3,3), 9)  # матрица 3х3, заполненная 9\n",
    "print(matrix5)\n",
    "\n",
    "matrix5 = np.empty((3,2))  # пустая матрица 3х2\n",
    "print(matrix5)"
   ]
  },
  {
   "cell_type": "code",
   "execution_count": 33,
   "id": "09e4c255",
   "metadata": {},
   "outputs": [
    {
     "name": "stdout",
     "output_type": "stream",
     "text": [
      "[[ 6  8]\n",
      " [10 12]]\n",
      "[[-4 -4]\n",
      " [-4 -4]]\n",
      "[[ 5 12]\n",
      " [21 32]]\n",
      "[[0.2        0.33333333]\n",
      " [0.42857143 0.5       ]]\n",
      "[[19 22]\n",
      " [43 50]]\n",
      "[[1 2 3]\n",
      " [4 5 6]\n",
      " [7 8 9]]\n",
      "[[1 2 3]\n",
      " [7 8 9]]\n",
      "[[1 3]\n",
      " [7 9]]\n",
      "[[0.         1.09861229]\n",
      " [1.94591015 2.19722458]]\n",
      "[[0.84147098 0.14112001]\n",
      " [0.6569866  0.41211849]]\n",
      "20\n",
      "9\n",
      "[7 9]\n",
      "[4. 6.]\n",
      "[2. 8.]\n",
      "[[ 1  9]\n",
      " [49 81]]\n"
     ]
    }
   ],
   "source": [
    "# операции\n",
    "\n",
    "matrix6 = np.array([(1,2), (3,4)])\n",
    "matrix7 = np.array([(5,6), (7,8)])\n",
    "\n",
    "print(np.add(matrix6,matrix7))  # matrix6 + matrix7 – сложение\n",
    "print(np.subtract(matrix6,matrix7))  # matrix6 - matrix7 – вычитание\n",
    "print(np.multiply(matrix6,matrix7))  # matrix6 * matrix7 – произведение\n",
    "print(np.divide(matrix6,matrix7))  # matrix6 / matrix7 – деление\n",
    "print(matrix6.dot(matrix7))  # скалярное произведение\n",
    "\n",
    "# axis: ось 0 - ось рядов в матрице, ось 1 - ось столбцов в матрице\n",
    "\n",
    "matrix8 = np.array([(1,2,3), (4,5,6), (7,8,9)])\n",
    "print(matrix8)\n",
    "\n",
    "matrix8 = np.delete(matrix8,1,axis=0)  # удаление 1 ряда \n",
    "print(matrix8)\n",
    "\n",
    "matrix8 = np.delete(matrix8,1,axis=1)  # удаление 1 столбца \n",
    "print(matrix8)\n",
    "\n",
    "print(np.log(matrix8))  # логарифм\n",
    "print(np.sin(matrix8))  # синус\n",
    "print(matrix8.sum())  # сумма\n",
    "print(matrix8.max())  # максимальный элемент\n",
    "print(matrix8.max(axis=0))  # максимальный ряд\n",
    "print(np.mean(matrix8, axis=0))  # рассчет среднего значения по рядам\n",
    "print(np.mean(matrix8, axis=1))  # рассчет среднего значения по столбцам\n",
    "\n",
    "print(matrix8 ** 2)  # возвездение во 2 степень\n"
   ]
  },
  {
   "cell_type": "code",
   "execution_count": 36,
   "id": "2174ef98",
   "metadata": {},
   "outputs": [
    {
     "name": "stdout",
     "output_type": "stream",
     "text": [
      "[[1 2 3]\n",
      " [4 5 6]]\n",
      "[[ 7  8  9]\n",
      " [10 11 12]]\n",
      "[[ 1  2  3  7  8  9]\n",
      " [ 4  5  6 10 11 12]]\n",
      "[[ 1  2  3  7  8  9]\n",
      " [ 4  5  6 10 11 12]]\n",
      "[[ 1  2  3]\n",
      " [ 4  5  6]\n",
      " [ 7  8  9]\n",
      " [10 11 12]]\n",
      "[[ 1  2  3]\n",
      " [ 4  5  6]\n",
      " [ 7  8  9]\n",
      " [10 11 12]]\n",
      "[array([[1, 2, 3]]), array([[4, 5, 6]])]\n",
      "[array([[1, 2, 3]]), array([[4, 5, 6]])]\n",
      "[array([[1],\n",
      "       [4]]), array([[2],\n",
      "       [5]]), array([[3],\n",
      "       [6]])]\n"
     ]
    }
   ],
   "source": [
    "# склеивание матриц и разделение матрицы\n",
    "\n",
    "arr1 = np.array([[1,2,3],[4,5,6]])\n",
    "print(arr1)\n",
    "\n",
    "arr2 = np.array([[7,8,9],[10,11,12]])\n",
    "print(arr2)\n",
    "\n",
    "# склеивание матриц столбцами\n",
    "arr = np.concatenate((arr1,arr2), axis=1)\n",
    "print(arr)\n",
    "\n",
    "arr = np.hstack((arr1,arr2))\n",
    "print(arr)\n",
    "\n",
    "# склеивание матриц рядами\n",
    "arr = np.concatenate((arr1,arr2), axis=0)\n",
    "print(arr)\n",
    "\n",
    "arr = np.vstack((arr1,arr2))\n",
    "print(arr)\n",
    "\n",
    "# разделение матрицы на 2\n",
    "arr = np.split(arr1,2)\n",
    "print(arr)\n",
    "\n",
    "# разделение матрицы на 2 по рядам\n",
    "arr = np.split(arr1,2,axis=0)\n",
    "print(arr)\n",
    "\n",
    "# разделение матрицы на 3 на столбцам\n",
    "arr = np.split(arr1,3,axis=1)\n",
    "print(arr)"
   ]
  },
  {
   "cell_type": "code",
   "execution_count": 37,
   "id": "f93d7bdd",
   "metadata": {},
   "outputs": [
    {
     "name": "stdout",
     "output_type": "stream",
     "text": [
      "[[1 2 3]\n",
      " [4 5 6]\n",
      " [7 8 9]]\n",
      "6\n",
      "[7 8 9]\n",
      "[3 6 9]\n",
      "[3 4 5 6 7 8 9]\n"
     ]
    }
   ],
   "source": [
    "# индексация \n",
    "\n",
    "matrix9 = np.array([(1,2,3),(4,5,6),(7,8,9)])\n",
    "print(matrix9)\n",
    "print(matrix9[1,2])\n",
    "print(matrix9[2])\n",
    "print(matrix9[:,2])\n",
    "print(matrix9[matrix9 > 2])"
   ]
  },
  {
   "cell_type": "code",
   "execution_count": 39,
   "id": "90b91dcd",
   "metadata": {},
   "outputs": [
    {
     "name": "stdout",
     "output_type": "stream",
     "text": [
      "[[1 2 3]\n",
      " [4 5 6]\n",
      " [7 8 9]]\n",
      "[[1 4 7]\n",
      " [2 5 8]\n",
      " [3 6 9]]\n",
      "[1 2 3 4 5 6 7 8 9]\n",
      "[[ 3.15251974e+15 -6.30503948e+15  3.15251974e+15]\n",
      " [-6.30503948e+15  1.26100790e+16 -6.30503948e+15]\n",
      " [ 3.15251974e+15 -6.30503948e+15  3.15251974e+15]]\n",
      "15\n",
      "-9.51619735392994e-16\n",
      "2\n"
     ]
    }
   ],
   "source": [
    "# специальные операции \n",
    "\n",
    "print(matrix9)\n",
    "print(matrix9.T)  # транспонирование\n",
    "print(matrix9.flatten())  # в массив\n",
    "print(np.linalg.inv(matrix9))  # обратная матрица\n",
    "print(np.trace(matrix9))  # след матрицы\n",
    "print(np.linalg.det(matrix9))  # определитель матрицы\n",
    "print(np.linalg.matrix_rank(matrix9))  # ранк"
   ]
  },
  {
   "cell_type": "code",
   "execution_count": null,
   "id": "70ba91b4",
   "metadata": {},
   "outputs": [],
   "source": []
  }
 ],
 "metadata": {
  "kernelspec": {
   "display_name": "Python 3 (ipykernel)",
   "language": "python",
   "name": "python3"
  },
  "language_info": {
   "codemirror_mode": {
    "name": "ipython",
    "version": 3
   },
   "file_extension": ".py",
   "mimetype": "text/x-python",
   "name": "python",
   "nbconvert_exporter": "python",
   "pygments_lexer": "ipython3",
   "version": "3.9.12"
  }
 },
 "nbformat": 4,
 "nbformat_minor": 5
}
