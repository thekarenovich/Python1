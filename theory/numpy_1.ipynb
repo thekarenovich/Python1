{
 "cells": [
  {
   "cell_type": "markdown",
   "id": "c9694d04",
   "metadata": {},
   "source": [
    "# Работа с одномерным массивом"
   ]
  },
  {
   "cell_type": "code",
   "execution_count": null,
   "id": "bd73bf40",
   "metadata": {},
   "outputs": [],
   "source": [
    "import numpy as np"
   ]
  },
  {
   "cell_type": "code",
   "execution_count": 11,
   "id": "7573c7ce",
   "metadata": {},
   "outputs": [
    {
     "name": "stdout",
     "output_type": "stream",
     "text": [
      "[1 2 3 4]\n",
      "(4,)\n",
      "int64\n",
      "1\n",
      "4\n",
      "4\n"
     ]
    }
   ],
   "source": [
    "lst = [1, 2, 3, 4]\n",
    "\n",
    "arr = np.array(lst)\n",
    "\n",
    "print(arr)  # полученный массив\n",
    "print(arr.dtype)  # тип данных массива\n",
    "print(arr.ndim)  # количество изменений в массиве\n",
    "print(arr.shape)  # размер массива в 1-ом измерении\n",
    "\n",
    "# размер массива\n",
    "print(arr.size)\n",
    "print(len(arr))"
   ]
  },
  {
   "cell_type": "code",
   "execution_count": 9,
   "id": "d9d955e1",
   "metadata": {
    "scrolled": false
   },
   "outputs": [
    {
     "name": "stdout",
     "output_type": "stream",
     "text": [
      "[ 0.   1.5  3.   4.5  6.   7.5  9.  10.5 12.  13.5 15.  16.5 18.  19.5]\n",
      "[0.  0.5 1.  1.5 2. ]\n"
     ]
    }
   ],
   "source": [
    "arr2 = np.arange(0, 20, 1.5)\n",
    "# в отличие от range в Python, arange умеет работать с дробными числами\n",
    "print(arr2)\n",
    "\n",
    "arr2 = np.linspace(0, 2, 5)\n",
    "# передает 5 чисел от 0 до 2\n",
    "print(arr2)"
   ]
  },
  {
   "cell_type": "code",
   "execution_count": 22,
   "id": "6fdd29fd",
   "metadata": {},
   "outputs": [
    {
     "name": "stdout",
     "output_type": "stream",
     "text": [
      "[0.34929551 0.70570812 0.36080102 0.88754484 0.51818826]\n",
      "[0.83011102 0.30682314 0.27996419 0.26350065 0.04493541]\n",
      "[ 7.20417375 -3.21332787 -2.3041517  -3.1154639   7.30727212]\n",
      "[ 1 -5 -4 -4  4]\n"
     ]
    }
   ],
   "source": [
    "# 5 случайных чисел\n",
    "arr3 = np.random.random((5,))\n",
    "print(arr3)\n",
    "arr3 = np.random.random_sample((5,))\n",
    "print(arr3)\n",
    "\n",
    "# диапазон случайных чисел от [a,b]: (b-a)*np.random()+a, где b>a\n",
    "# пример на 5 числах в интревале от -5 до 10\n",
    "arr3 = (10 - -5) * np.random.random_sample((5,)) - 5\n",
    "print(arr3)\n",
    "arr3 = np.random.randint(-5, 10, 5)\n",
    "print(arr3)"
   ]
  },
  {
   "cell_type": "code",
   "execution_count": 20,
   "id": "aab691c0",
   "metadata": {},
   "outputs": [
    {
     "name": "stdout",
     "output_type": "stream",
     "text": [
      "[1.         1.41421356 1.73205081 2.         2.23606798]\n",
      "[ 0.84147098  0.90929743  0.14112001 -0.7568025  -0.95892427]\n",
      "[ 0.54030231 -0.41614684 -0.9899925  -0.65364362  0.28366219]\n",
      "[0.         0.69314718 1.09861229 1.38629436 1.60943791]\n",
      "[  2.71828183   7.3890561   20.08553692  54.59815003 148.4131591 ]\n",
      "[ 7  9 11 13 15]\n",
      "[-5 -5 -5 -5 -5]\n",
      "[ 6 14 24 36 50]\n",
      "[0.16666667 0.28571429 0.375      0.44444444 0.5       ]\n",
      "[ 2  4  6  8 10]\n",
      "[ 1  4  9 16 25]\n"
     ]
    }
   ],
   "source": [
    "# операции\n",
    "\n",
    "# примеры некоторых мат. функций из многих\n",
    "arr4 = np.array([1, 2, 3, 4, 5])\n",
    "print(np.sqrt(arr4))  # квадратный корень\n",
    "print(np.sin(arr4))  # синус\n",
    "print(np.cos(arr4))  # косинус\n",
    "print(np.log(arr4))  # логарифм\n",
    "print(np.exp(arr4))  # экспонента\n",
    "\n",
    "# примеры мат. операций\n",
    "arr5 = np.array([1, 2, 3, 4, 5])\n",
    "arr6 = np.array([6, 7, 8, 9, 10])\n",
    "print(np.add(arr5,arr6))  # arr5 + arr6 – сложение\n",
    "print(np.subtract(arr5,arr6))  # arr5 - arr6 – вычитание\n",
    "print(np.multiply(arr5,arr6))  # arr5 * arr6 – произведение\n",
    "print(np.divide(arr5,arr6))  # arr5 / arr6 – деление\n",
    "print(arr5 * 2)  # умножит все элементы массива на 2 (со списком так нельзя)\n",
    "print(arr5 ** 2)  # возвести все элементы во 2 степень (со списком так нельзя)"
   ]
  },
  {
   "cell_type": "code",
   "execution_count": null,
   "id": "6859274c",
   "metadata": {},
   "outputs": [],
   "source": []
  }
 ],
 "metadata": {
  "kernelspec": {
   "display_name": "Python 3 (ipykernel)",
   "language": "python",
   "name": "python3"
  },
  "language_info": {
   "codemirror_mode": {
    "name": "ipython",
    "version": 3
   },
   "file_extension": ".py",
   "mimetype": "text/x-python",
   "name": "python",
   "nbconvert_exporter": "python",
   "pygments_lexer": "ipython3",
   "version": "3.9.12"
  }
 },
 "nbformat": 4,
 "nbformat_minor": 5
}
