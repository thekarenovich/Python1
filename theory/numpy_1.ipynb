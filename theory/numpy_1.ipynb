{
 "cells": [
  {
   "cell_type": "markdown",
   "id": "2f02f2d6",
   "metadata": {},
   "source": [
    "# Работа с одномерным массивом"
   ]
  },
  {
   "cell_type": "code",
   "execution_count": null,
   "id": "f8c14fea",
   "metadata": {},
   "outputs": [],
   "source": [
    "import numpy as np"
   ]
  },
  {
   "cell_type": "code",
   "execution_count": 36,
   "id": "5a4f774c",
   "metadata": {},
   "outputs": [
    {
     "name": "stdout",
     "output_type": "stream",
     "text": [
      "[1 2 3 4]\n",
      "int64\n",
      "1\n",
      "(4,)\n",
      "[1. 2. 3. 4.]\n",
      "4\n",
      "4\n"
     ]
    }
   ],
   "source": [
    "lst = [1, 2, 3, 4]\n",
    "\n",
    "arr = np.array(lst)\n",
    "\n",
    "print(arr)  # полученный массив\n",
    "print(arr.dtype)  # тип данных массива\n",
    "print(arr.ndim)  # количество изменений в массиве\n",
    "print(arr.shape)  # размер массива в 1-ом измерении\n",
    "\n",
    "arr = np.array(arr, dtype=np.float64)  # преобразование типа данных массива\n",
    "print(arr)\n",
    "\n",
    "# размер массива\n",
    "print(arr.size)\n",
    "print(len(arr))"
   ]
  },
  {
   "cell_type": "code",
   "execution_count": 25,
   "id": "9131be2f",
   "metadata": {
    "scrolled": false
   },
   "outputs": [
    {
     "name": "stdout",
     "output_type": "stream",
     "text": [
      "[ 0.   1.5  3.   4.5  6.   7.5  9.  10.5 12.  13.5 15.  16.5 18.  19.5]\n",
      "[0.  0.5 1.  1.5 2. ]\n"
     ]
    }
   ],
   "source": [
    "arr2 = np.arange(0, 20, 1.5)\n",
    "# в отличие от range в Python, arange умеет работать с дробными числами\n",
    "print(arr2)\n",
    "\n",
    "arr2 = np.linspace(0, 2, 5)\n",
    "# передает 5 чисел от 0 до 2\n",
    "print(arr2)"
   ]
  },
  {
   "cell_type": "code",
   "execution_count": 26,
   "id": "ee3ce0c7",
   "metadata": {},
   "outputs": [
    {
     "name": "stdout",
     "output_type": "stream",
     "text": [
      "[0.64257051 0.90431023 0.95123847 0.9652271  0.96957514]\n",
      "[0.07414941 0.88147406 0.30628298 0.3904202  0.81895439]\n",
      "[ 1.53594918  0.72790771  0.92974968 -0.46946233  6.41696043]\n",
      "[ 8 -5  9  4  1]\n"
     ]
    }
   ],
   "source": [
    "# рандомные числа \n",
    "\n",
    "# 5 случайных чисел\n",
    "arr3 = np.random.random((5,))\n",
    "print(arr3)\n",
    "arr3 = np.random.random_sample((5,))\n",
    "print(arr3)\n",
    "\n",
    "# диапазон случайных чисел от [a,b]: (b-a)*np.random()+a, где b>a\n",
    "# пример на 5 числах в интревале от -5 до 10\n",
    "arr3 = (10 - -5) * np.random.random_sample((5,)) - 5\n",
    "print(arr3)\n",
    "arr3 = np.random.randint(-5, 10, 5)\n",
    "print(arr3)"
   ]
  },
  {
   "cell_type": "code",
   "execution_count": 20,
   "id": "3f119196",
   "metadata": {},
   "outputs": [
    {
     "name": "stdout",
     "output_type": "stream",
     "text": [
      "[1.         1.41421356 1.73205081 2.         2.23606798]\n",
      "[ 0.84147098  0.90929743  0.14112001 -0.7568025  -0.95892427]\n",
      "[ 0.54030231 -0.41614684 -0.9899925  -0.65364362  0.28366219]\n",
      "[0.         0.69314718 1.09861229 1.38629436 1.60943791]\n",
      "[  2.71828183   7.3890561   20.08553692  54.59815003 148.4131591 ]\n",
      "[ 7  9 11 13 15]\n",
      "[-5 -5 -5 -5 -5]\n",
      "[ 6 14 24 36 50]\n",
      "[0.16666667 0.28571429 0.375      0.44444444 0.5       ]\n",
      "[ 2  4  6  8 10]\n",
      "[ 1  4  9 16 25]\n"
     ]
    }
   ],
   "source": [
    "# операции\n",
    "\n",
    "arr4 = np.array([1, 2, 3, 4, 5])\n",
    "print(np.sqrt(arr4))  # квадратный корень\n",
    "print(np.sin(arr4))  # синус\n",
    "print(np.cos(arr4))  # косинус\n",
    "print(np.log(arr4))  # логарифм\n",
    "print(np.exp(arr4))  # экспонента\n",
    "\n",
    "arr5 = np.array([1, 2, 3, 4, 5])\n",
    "arr6 = np.array([6, 7, 8, 9, 10])\n",
    "print(np.add(arr5,arr6))  # arr5 + arr6 – сложение\n",
    "print(np.subtract(arr5,arr6))  # arr5 - arr6 – вычитание\n",
    "print(np.multiply(arr5,arr6))  # arr5 * arr6 – произведение\n",
    "print(np.divide(arr5,arr6))  # arr5 / arr6 – деление\n",
    "print(arr5 * 2)  # умножит все элементы массива на 2 (со списком так нельзя)\n",
    "print(arr5 ** 2)  # возвести все элементы во 2 степень (со списком так нельзя)"
   ]
  },
  {
   "cell_type": "code",
   "execution_count": 24,
   "id": "3ce629a3",
   "metadata": {},
   "outputs": [
    {
     "name": "stdout",
     "output_type": "stream",
     "text": [
      "5\n",
      "1\n",
      "3.0\n",
      "15\n",
      "1.4142135623730951\n",
      "3.0\n",
      "[ True False False False False]\n"
     ]
    }
   ],
   "source": [
    "# функции агрегаты\n",
    "arr7 = np.array([1, 2, 3, 4, 5])\n",
    "print(arr7.max())\n",
    "print(arr7.min())\n",
    "print(arr7.mean())\n",
    "print(arr7.sum())\n",
    "print(arr7.std())\n",
    "print(np.median(arr7))\n",
    "print(arr7 < 2)"
   ]
  },
  {
   "cell_type": "code",
   "execution_count": 34,
   "id": "561db0c1",
   "metadata": {},
   "outputs": [
    {
     "name": "stdout",
     "output_type": "stream",
     "text": [
      "[5 4 3 2 1]\n",
      "[  5   4 999   3   2   1]\n",
      "[5 4 3 2 1]\n",
      "[1 2 3 4 5]\n",
      "[0 1 2 3]\n",
      "[array([0, 1]), array([2]), array([3])]\n"
     ]
    }
   ],
   "source": [
    "# манипуляции с массивами \n",
    "arr8 = np.array([5, 4, 3, 2, 1])\n",
    "print(arr8)\n",
    "arr8 = np.insert(arr8, 2, 999)\n",
    "print(arr8)\n",
    "arr8 = np.delete(arr8, 2)\n",
    "print(arr8)\n",
    "arr8 = np.sort(arr8)\n",
    "print(arr8)\n",
    "arr8 = np.concatenate((np.array([0,1]), np.array([2,3])))\n",
    "print(arr8)\n",
    "arr8 = np.array_split(arr8, 3)\n",
    "print(arr8)"
   ]
  },
  {
   "cell_type": "code",
   "execution_count": 39,
   "id": "7378a049",
   "metadata": {},
   "outputs": [
    {
     "name": "stdout",
     "output_type": "stream",
     "text": [
      "[0 2 3 4 5]\n",
      "3\n",
      "[0 2]\n",
      "[5 4 3 2 0]\n",
      "[0]\n",
      "[]\n",
      "[5]\n",
      "[0 0 0 0 5]\n"
     ]
    }
   ],
   "source": [
    "# индексы\n",
    "arr9 = np.array([1, 2, 3, 4, 5])\n",
    "arr9[0] = 0\n",
    "print(arr9)\n",
    "print(arr9[2])\n",
    "print(arr9[0:2])\n",
    "print(arr9[::-1])\n",
    "print(arr9[arr9 < 2])\n",
    "print(arr9[(arr9 < 2) & (arr9 > 0)])\n",
    "print(arr9[(arr9 > 4) | (arr9 < 0)])\n",
    "arr9[1:4] = 0\n",
    "print(arr9)"
   ]
  },
  {
   "cell_type": "markdown",
   "id": "1dc80dcc",
   "metadata": {},
   "source": [
    "### Далее работа с матрицами"
   ]
  }
 ],
 "metadata": {
  "kernelspec": {
   "display_name": "Python 3 (ipykernel)",
   "language": "python",
   "name": "python3"
  },
  "language_info": {
   "codemirror_mode": {
    "name": "ipython",
    "version": 3
   },
   "file_extension": ".py",
   "mimetype": "text/x-python",
   "name": "python",
   "nbconvert_exporter": "python",
   "pygments_lexer": "ipython3",
   "version": "3.9.12"
  }
 },
 "nbformat": 4,
 "nbformat_minor": 5
}
