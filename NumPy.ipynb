{
 "cells": [
  {
   "cell_type": "markdown",
   "id": "113b4cd7",
   "metadata": {},
   "source": [
    "# Работа с одномерным массивом"
   ]
  },
  {
   "cell_type": "code",
   "execution_count": null,
   "id": "8a8c5478",
   "metadata": {},
   "outputs": [],
   "source": [
    "import numpy as np"
   ]
  },
  {
   "cell_type": "code",
   "execution_count": 11,
   "id": "9e5a83fa",
   "metadata": {},
   "outputs": [
    {
     "name": "stdout",
     "output_type": "stream",
     "text": [
      "[1 2 3 4]\n",
      "(4,)\n",
      "int64\n",
      "1\n",
      "4\n",
      "4\n"
     ]
    }
   ],
   "source": [
    "lst = [1, 2, 3, 4]\n",
    "\n",
    "arr = np.array(lst)\n",
    "\n",
    "print(arr)  # полученный массив\n",
    "print(arr.dtype)  # тип данных массива\n",
    "print(arr.ndim)  # количество изменений в массиве\n",
    "print(arr.shape)  # размер массива в 1-ом измерении\n",
    "print(arr.size)  # размер массива\n",
    "print(len(arr))  # размер массива"
   ]
  },
  {
   "cell_type": "code",
   "execution_count": 9,
   "id": "508cb041",
   "metadata": {},
   "outputs": [
    {
     "name": "stdout",
     "output_type": "stream",
     "text": [
      "[ 0.   1.5  3.   4.5  6.   7.5  9.  10.5 12.  13.5 15.  16.5 18.  19.5]\n",
      "[0.  0.5 1.  1.5 2. ]\n"
     ]
    }
   ],
   "source": [
    "arr2 = np.arange(0, 20, 1.5)\n",
    "# в отличие от range в Python, arange умеет работать с дробными числами\n",
    "print(arr2)\n",
    "\n",
    "arr2 = np.linspace(0, 2, 5)\n",
    "# передает 5 чисел от 0 до 2\n",
    "print(arr2)"
   ]
  }
 ],
 "metadata": {
  "kernelspec": {
   "display_name": "Python 3 (ipykernel)",
   "language": "python",
   "name": "python3"
  },
  "language_info": {
   "codemirror_mode": {
    "name": "ipython",
    "version": 3
   },
   "file_extension": ".py",
   "mimetype": "text/x-python",
   "name": "python",
   "nbconvert_exporter": "python",
   "pygments_lexer": "ipython3",
   "version": "3.9.12"
  }
 },
 "nbformat": 4,
 "nbformat_minor": 5
}
